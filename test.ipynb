{
 "cells": [
  {
   "cell_type": "code",
   "execution_count": 5,
   "metadata": {},
   "outputs": [
    {
     "data": {
      "text/plain": [
       "tensor([1., 0., 1., 0., 0.])"
      ]
     },
     "execution_count": 5,
     "metadata": {},
     "output_type": "execute_result"
    }
   ],
   "source": [
    "import torch\n",
    "import numpy as np\n",
    "\n",
    "\n",
    "a = torch.arange(12).view(4, 3)\n",
    "b = torch.arange(18).view(2, 3, 3)\n",
    "\n",
    "(torch.rand(5) > 0.5).float()"
   ]
  },
  {
   "cell_type": "code",
   "execution_count": 22,
   "metadata": {},
   "outputs": [
    {
     "data": {
      "text/plain": [
       "tensor([[ 3,  4,  5,  6,  7,  8,  9, 10, 11,  0,  1,  2],\n",
       "        [ 6,  7,  8,  9, 10, 11,  0,  1,  2,  3,  4,  5],\n",
       "        [ 9, 10, 11,  0,  1,  2,  3,  4,  5,  6,  7,  8],\n",
       "        [ 0,  1,  2,  3,  4,  5,  6,  7,  8,  9, 10, 11]])"
      ]
     },
     "execution_count": 22,
     "metadata": {},
     "output_type": "execute_result"
    }
   ],
   "source": [
    "arange = torch.arange(4)\n",
    "idx = (arange.expand(4, -1) + arange.unsqueeze(-1) + 1) % 4\n",
    "a[idx].flatten(1)"
   ]
  },
  {
   "cell_type": "code",
   "execution_count": 3,
   "metadata": {},
   "outputs": [
    {
     "data": {
      "text/plain": [
       "tensor([[ 3,  4,  5,  6,  7,  8,  9, 10, 11,  0,  1,  2],\n",
       "        [ 0,  1,  2,  6,  7,  8,  9, 10, 11,  3,  4,  5],\n",
       "        [ 0,  1,  2,  3,  4,  5,  9, 10, 11,  6,  7,  8],\n",
       "        [ 0,  1,  2,  3,  4,  5,  6,  7,  8,  9, 10, 11]])"
      ]
     },
     "execution_count": 3,
     "metadata": {},
     "output_type": "execute_result"
    }
   ],
   "source": [
    "obs = torch.cat([\n",
    "    a.expand(4, 4, 3)[~torch.eye(4, dtype=bool)].reshape(4, -1),\n",
    "    a], dim=-1)\n",
    "obs"
   ]
  },
  {
   "cell_type": "code",
   "execution_count": 12,
   "metadata": {},
   "outputs": [
    {
     "data": {
      "text/plain": [
       "tensor([[0, 1, 2, 3],\n",
       "        [3, 0, 1, 2],\n",
       "        [2, 3, 0, 1],\n",
       "        [1, 2, 3, 0]])"
      ]
     },
     "execution_count": 12,
     "metadata": {},
     "output_type": "execute_result"
    }
   ],
   "source": [
    "(torch.arange(4).expand(4, -1) - torch.arange(4).view(4, 1)) % 4"
   ]
  },
  {
   "cell_type": "code",
   "execution_count": 10,
   "metadata": {},
   "outputs": [
    {
     "data": {
      "text/plain": [
       "tensor([[0],\n",
       "        [1]])"
      ]
     },
     "execution_count": 10,
     "metadata": {},
     "output_type": "execute_result"
    }
   ],
   "source": [
    "import torch\n",
    "\n",
    "min_xyz = torch.tensor([-1, -1, 0])\n",
    "max_xyz = torch.tensor([1, 1, 1])\n",
    "\n",
    "min_xyz.nonzero()"
   ]
  },
  {
   "cell_type": "code",
   "execution_count": 3,
   "metadata": {},
   "outputs": [],
   "source": [
    "from dataclasses import dataclass\n",
    "\n",
    "@dataclass\n",
    "class Agent:\n",
    "    a: int = 1\n",
    "    b: float = 2.0\n",
    "    c: str = \"3\""
   ]
  },
  {
   "cell_type": "code",
   "execution_count": 19,
   "metadata": {},
   "outputs": [
    {
     "data": {
      "text/plain": [
       "tensor([[1., 2.],\n",
       "        [1., 2.],\n",
       "        [1., 2.],\n",
       "        [1., 2.],\n",
       "        [1., 2.],\n",
       "        [1., 2.],\n",
       "        [1., 2.],\n",
       "        [1., 2.],\n",
       "        [1., 2.],\n",
       "        [1., 2.]])"
      ]
     },
     "execution_count": 19,
     "metadata": {},
     "output_type": "execute_result"
    }
   ],
   "source": [
    "from typing import Tuple\n",
    "import torch\n",
    "\n",
    "a =  torch.ones(10).unsqueeze(-1)\n",
    "b = torch.arange(2)\n",
    "a + b"
   ]
  }
 ],
 "metadata": {
  "kernelspec": {
   "display_name": "Python 3.8.12 ('drone')",
   "language": "python",
   "name": "python3"
  },
  "language_info": {
   "codemirror_mode": {
    "name": "ipython",
    "version": 3
   },
   "file_extension": ".py",
   "mimetype": "text/x-python",
   "name": "python",
   "nbconvert_exporter": "python",
   "pygments_lexer": "ipython3",
   "version": "3.8.12"
  },
  "orig_nbformat": 4,
  "vscode": {
   "interpreter": {
    "hash": "e4242bf282f1932052fe6bd54d930ba3a20db08434c2a9fcc6dca59bc681c3fe"
   }
  }
 },
 "nbformat": 4,
 "nbformat_minor": 2
}
