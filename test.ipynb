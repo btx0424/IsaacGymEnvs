{
 "cells": [
  {
   "cell_type": "code",
   "execution_count": 7,
   "metadata": {},
   "outputs": [],
   "source": [
    "import torch\n",
    "import numpy as np\n",
    "\n",
    "\n",
    "a = torch.arange(12).view(4, 3)\n",
    "b = torch.arange(18).view(2, 3, 3)\n"
   ]
  },
  {
   "cell_type": "code",
   "execution_count": 22,
   "metadata": {},
   "outputs": [
    {
     "data": {
      "text/plain": [
       "tensor([[ 3,  4,  5,  6,  7,  8,  9, 10, 11,  0,  1,  2],\n",
       "        [ 6,  7,  8,  9, 10, 11,  0,  1,  2,  3,  4,  5],\n",
       "        [ 9, 10, 11,  0,  1,  2,  3,  4,  5,  6,  7,  8],\n",
       "        [ 0,  1,  2,  3,  4,  5,  6,  7,  8,  9, 10, 11]])"
      ]
     },
     "execution_count": 22,
     "metadata": {},
     "output_type": "execute_result"
    }
   ],
   "source": [
    "arange = torch.arange(4)\n",
    "idx = (arange.expand(4, -1) + arange.unsqueeze(-1) + 1) % 4\n",
    "a[idx].flatten(1)"
   ]
  },
  {
   "cell_type": "code",
   "execution_count": 3,
   "metadata": {},
   "outputs": [
    {
     "data": {
      "text/plain": [
       "tensor([[ 3,  4,  5,  6,  7,  8,  9, 10, 11,  0,  1,  2],\n",
       "        [ 0,  1,  2,  6,  7,  8,  9, 10, 11,  3,  4,  5],\n",
       "        [ 0,  1,  2,  3,  4,  5,  9, 10, 11,  6,  7,  8],\n",
       "        [ 0,  1,  2,  3,  4,  5,  6,  7,  8,  9, 10, 11]])"
      ]
     },
     "execution_count": 3,
     "metadata": {},
     "output_type": "execute_result"
    }
   ],
   "source": [
    "obs = torch.cat([\n",
    "    a.expand(4, 4, 3)[~torch.eye(4, dtype=bool)].reshape(4, -1),\n",
    "    a], dim=-1)\n",
    "obs"
   ]
  },
  {
   "cell_type": "code",
   "execution_count": 12,
   "metadata": {},
   "outputs": [
    {
     "data": {
      "text/plain": [
       "tensor([[0, 1, 2, 3],\n",
       "        [3, 0, 1, 2],\n",
       "        [2, 3, 0, 1],\n",
       "        [1, 2, 3, 0]])"
      ]
     },
     "execution_count": 12,
     "metadata": {},
     "output_type": "execute_result"
    }
   ],
   "source": [
    "(torch.arange(4).expand(4, -1) - torch.arange(4).view(4, 1)) % 4"
   ]
  }
 ],
 "metadata": {
  "kernelspec": {
   "display_name": "Python 3.8.13 ('rl': conda)",
   "language": "python",
   "name": "python3"
  },
  "language_info": {
   "codemirror_mode": {
    "name": "ipython",
    "version": 3
   },
   "file_extension": ".py",
   "mimetype": "text/x-python",
   "name": "python",
   "nbconvert_exporter": "python",
   "pygments_lexer": "ipython3",
   "version": "3.8.13"
  },
  "orig_nbformat": 4,
  "vscode": {
   "interpreter": {
    "hash": "ddbf50ac7fea9c6be25d22793f9a1dcc70bcb89401396fc4a39e4b822ccc7cc7"
   }
  }
 },
 "nbformat": 4,
 "nbformat_minor": 2
}
